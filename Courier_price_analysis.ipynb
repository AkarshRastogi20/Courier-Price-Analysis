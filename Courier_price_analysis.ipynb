{
 "cells": [
  {
   "cell_type": "code",
   "execution_count": 1,
   "id": "626895ff",
   "metadata": {},
   "outputs": [],
   "source": [
    "import pandas as pd"
   ]
  },
  {
   "cell_type": "code",
   "execution_count": 4,
   "id": "d3c843a5",
   "metadata": {},
   "outputs": [],
   "source": [
    "# Load the provided Excel files\n",
    "order_report_path = 'Company X - Order Report.xlsx'\n",
    "pincode_zones_path = 'Company X - Pincode Zones.xlsx'\n",
    "sku_master_path = 'Company X - SKU Master.xlsx'\n",
    "courier_invoice_path = 'Courier Company - Invoice.xlsx'\n",
    "courier_rates_path = 'Courier Company - Rates.xlsx'"
   ]
  },
  {
   "cell_type": "code",
   "execution_count": 5,
   "id": "a33334c4",
   "metadata": {},
   "outputs": [],
   "source": [
    "# Reading the data from each file\n",
    "order_report = pd.read_excel(order_report_path)\n",
    "pincode_zones = pd.read_excel(pincode_zones_path)\n",
    "sku_master = pd.read_excel(sku_master_path)\n",
    "courier_invoice = pd.read_excel(courier_invoice_path)\n",
    "courier_rates = pd.read_excel(courier_rates_path)"
   ]
  },
  {
   "cell_type": "code",
   "execution_count": 7,
   "id": "5b978142",
   "metadata": {},
   "outputs": [
    {
     "data": {
      "text/plain": [
       "{'Order Report':    ExternOrderNo            SKU  Order Qty\n",
       " 0     2001827036  8904223818706        1.0\n",
       " 1     2001827036  8904223819093        1.0\n",
       " 2     2001827036  8904223819109        1.0\n",
       " 3     2001827036  8904223818430        1.0\n",
       " 4     2001827036  8904223819277        1.0,\n",
       " 'Pincode Zones':    Warehouse Pincode  Customer Pincode Zone\n",
       " 0             121003            507101    d\n",
       " 1             121003            486886    d\n",
       " 2             121003            532484    d\n",
       " 3             121003            143001    b\n",
       " 4             121003            515591    d,\n",
       " 'SKU Master':              SKU  Weight (g)\n",
       " 0  8904223815682         210\n",
       " 1  8904223815859         165\n",
       " 2  8904223815866         113\n",
       " 3  8904223815873          65\n",
       " 4  8904223816214         120,\n",
       " 'Courier Invoice':         AWB Code    Order ID  Charged Weight  Warehouse Pincode  \\\n",
       " 0  1091117222124  2001806232            1.30             121003   \n",
       " 1  1091117222194  2001806273            1.00             121003   \n",
       " 2  1091117222931  2001806408            2.50             121003   \n",
       " 3  1091117223244  2001806458            1.00             121003   \n",
       " 4  1091117229345  2001807012            0.15             121003   \n",
       " \n",
       "    Customer Pincode Zone Type of Shipment  Billing Amount (Rs.)  \n",
       " 0            507101    d  Forward charges                 135.0  \n",
       " 1            486886    d  Forward charges                  90.2  \n",
       " 2            532484    d  Forward charges                 224.6  \n",
       " 3            143001    b  Forward charges                  61.3  \n",
       " 4            515591    d  Forward charges                  45.4  ,\n",
       " 'Courier Rates':   Zone  Weight Slabs  Forward Fixed Charge  \\\n",
       " 0    A          0.50                  29.5   \n",
       " 1    B          1.00                  33.0   \n",
       " 2    C          1.25                  40.1   \n",
       " 3    D          1.50                  45.4   \n",
       " 4    E          2.00                  56.6   \n",
       " \n",
       "    Forward Additional Weight Slab Charge  RTO Fixed Charge  \\\n",
       " 0                                   23.6              13.6   \n",
       " 1                                   28.3              20.5   \n",
       " 2                                   38.9              31.9   \n",
       " 3                                   44.8              41.3   \n",
       " 4                                   55.5              50.7   \n",
       " \n",
       "    RTO Additional Weight Slab Charge  \n",
       " 0                               23.6  \n",
       " 1                               28.3  \n",
       " 2                               38.9  \n",
       " 3                               44.8  \n",
       " 4                               55.5  }"
      ]
     },
     "execution_count": 7,
     "metadata": {},
     "output_type": "execute_result"
    }
   ],
   "source": [
    "dfs = {\n",
    "    'Order Report': order_report,\n",
    "    'Pincode Zones': pincode_zones,\n",
    "    'SKU Master': sku_master,\n",
    "    'Courier Invoice': courier_invoice,\n",
    "    'Courier Rates': courier_rates\n",
    "}\n",
    "\n",
    "df_overview = {name: df.head() for name, df in dfs.items()}\n",
    "df_overview"
   ]
  },
  {
   "cell_type": "code",
   "execution_count": 8,
   "id": "d4ac7e3a",
   "metadata": {},
   "outputs": [],
   "source": [
    "# Merge the Order Report with SKU Master to get the weight of each SKU in an order\n",
    "order_with_weight = pd.merge(order_report, sku_master, on='SKU', how='left')"
   ]
  },
  {
   "cell_type": "code",
   "execution_count": 9,
   "id": "258dea52",
   "metadata": {},
   "outputs": [],
   "source": [
    "# Calculate the total weight of each order by multiplying the SKU weight with order quantity and summing up per order\n",
    "order_with_weight['Total Weight (g)'] = order_with_weight['Weight (g)'] * order_with_weight['Order Qty']\n",
    "order_total_weight = order_with_weight.groupby('ExternOrderNo')['Total Weight (g)'].sum().reset_index()"
   ]
  },
  {
   "cell_type": "code",
   "execution_count": 10,
   "id": "a3d34879",
   "metadata": {},
   "outputs": [],
   "source": [
    "# Rename columns for clarity\n",
    "order_total_weight.rename(columns={'ExternOrderNo': 'Order ID', 'Total Weight (g)': 'Total Weight per X (g)'}, inplace=True)"
   ]
  },
  {
   "cell_type": "code",
   "execution_count": 11,
   "id": "ba2c9097",
   "metadata": {},
   "outputs": [],
   "source": [
    "# Convert weight from grams to kilograms as that is the unit used in courier data\n",
    "order_total_weight['Total Weight per X (KG)'] = order_total_weight['Total Weight per X (g)'] / 1000"
   ]
  },
  {
   "cell_type": "code",
   "execution_count": 12,
   "id": "a2d36e4e",
   "metadata": {},
   "outputs": [],
   "source": [
    "# Now we need to merge the total weight per order with the pincode zones data to get the delivery zones\n",
    "# First, we need to ensure the Order ID column is of the same type in both the order report and courier invoice\n",
    "order_total_weight['Order ID'] = order_total_weight['Order ID'].astype(str)\n",
    "courier_invoice['Order ID'] = courier_invoice['Order ID'].astype(str)"
   ]
  },
  {
   "cell_type": "code",
   "execution_count": 13,
   "id": "6b5981e2",
   "metadata": {},
   "outputs": [],
   "source": [
    "# Merge the total weight per order with the courier invoice to get the warehouse and customer pincodes\n",
    "order_weight_with_zones = pd.merge(order_total_weight, courier_invoice[['Order ID', 'Warehouse Pincode', 'Customer Pincode']], on='Order ID', how='left')"
   ]
  },
  {
   "cell_type": "code",
   "execution_count": 14,
   "id": "e016b388",
   "metadata": {},
   "outputs": [],
   "source": [
    "# Then, we merge with the pincode zones data to get the delivery zone\n",
    "order_weight_with_zones = pd.merge(order_weight_with_zones, pincode_zones, on=['Warehouse Pincode', 'Customer Pincode'], how='left')"
   ]
  },
  {
   "cell_type": "code",
   "execution_count": 15,
   "id": "ce2d1bdf",
   "metadata": {},
   "outputs": [
    {
     "data": {
      "text/html": [
       "<div>\n",
       "<style scoped>\n",
       "    .dataframe tbody tr th:only-of-type {\n",
       "        vertical-align: middle;\n",
       "    }\n",
       "\n",
       "    .dataframe tbody tr th {\n",
       "        vertical-align: top;\n",
       "    }\n",
       "\n",
       "    .dataframe thead th {\n",
       "        text-align: right;\n",
       "    }\n",
       "</style>\n",
       "<table border=\"1\" class=\"dataframe\">\n",
       "  <thead>\n",
       "    <tr style=\"text-align: right;\">\n",
       "      <th></th>\n",
       "      <th>Order ID</th>\n",
       "      <th>Total Weight per X (g)</th>\n",
       "      <th>Total Weight per X (KG)</th>\n",
       "      <th>Warehouse Pincode</th>\n",
       "      <th>Customer Pincode</th>\n",
       "      <th>Zone</th>\n",
       "    </tr>\n",
       "  </thead>\n",
       "  <tbody>\n",
       "    <tr>\n",
       "      <th>0</th>\n",
       "      <td>2001806210</td>\n",
       "      <td>220.0</td>\n",
       "      <td>0.220</td>\n",
       "      <td>121003</td>\n",
       "      <td>140604</td>\n",
       "      <td>b</td>\n",
       "    </tr>\n",
       "    <tr>\n",
       "      <th>1</th>\n",
       "      <td>2001806226</td>\n",
       "      <td>480.0</td>\n",
       "      <td>0.480</td>\n",
       "      <td>121003</td>\n",
       "      <td>723146</td>\n",
       "      <td>d</td>\n",
       "    </tr>\n",
       "    <tr>\n",
       "      <th>2</th>\n",
       "      <td>2001806229</td>\n",
       "      <td>500.0</td>\n",
       "      <td>0.500</td>\n",
       "      <td>121003</td>\n",
       "      <td>421204</td>\n",
       "      <td>d</td>\n",
       "    </tr>\n",
       "    <tr>\n",
       "      <th>3</th>\n",
       "      <td>2001806232</td>\n",
       "      <td>1302.0</td>\n",
       "      <td>1.302</td>\n",
       "      <td>121003</td>\n",
       "      <td>507101</td>\n",
       "      <td>d</td>\n",
       "    </tr>\n",
       "    <tr>\n",
       "      <th>4</th>\n",
       "      <td>2001806233</td>\n",
       "      <td>245.0</td>\n",
       "      <td>0.245</td>\n",
       "      <td>121003</td>\n",
       "      <td>263139</td>\n",
       "      <td>b</td>\n",
       "    </tr>\n",
       "  </tbody>\n",
       "</table>\n",
       "</div>"
      ],
      "text/plain": [
       "     Order ID  Total Weight per X (g)  Total Weight per X (KG)  \\\n",
       "0  2001806210                   220.0                    0.220   \n",
       "1  2001806226                   480.0                    0.480   \n",
       "2  2001806229                   500.0                    0.500   \n",
       "3  2001806232                  1302.0                    1.302   \n",
       "4  2001806233                   245.0                    0.245   \n",
       "\n",
       "   Warehouse Pincode  Customer Pincode Zone  \n",
       "0             121003            140604    b  \n",
       "1             121003            723146    d  \n",
       "2             121003            421204    d  \n",
       "3             121003            507101    d  \n",
       "4             121003            263139    b  "
      ]
     },
     "execution_count": 15,
     "metadata": {},
     "output_type": "execute_result"
    }
   ],
   "source": [
    "# Now we have the total weight and delivery zone per order, we can calculate the expected charges\n",
    "order_weight_with_zones.head()"
   ]
  },
  {
   "cell_type": "code",
   "execution_count": 17,
   "id": "85c3e92c",
   "metadata": {},
   "outputs": [],
   "source": [
    "# Define a function to calculate the expected charges based on the weight and zone\n",
    "def calculate_expected_charges(weight, zone, rates):\n",
    "    # Find the rate information for the given zone\n",
    "    rate_info = rates[rates['Zone'] == zone.upper()].iloc[0]\n",
    "    \n",
    "    # Calculate the fixed charge based on the first weight slab\n",
    "    fixed_charge = rate_info['Forward Fixed Charge']\n",
    "    \n",
    "    # Calculate additional charge for weight above the first slab\n",
    "    additional_weight = max(weight - rate_info['Weight Slabs'], 0)\n",
    "    additional_charge = (additional_weight // rate_info['Weight Slabs']) * rate_info['Forward Additional Weight Slab Charge']\n",
    "    \n",
    "    # Total expected charge is the sum of the fixed and additional charges\n",
    "    total_expected_charge = fixed_charge + additional_charge\n",
    "    \n",
    "    return total_expected_charge"
   ]
  },
  {
   "cell_type": "code",
   "execution_count": 21,
   "id": "6dfea573",
   "metadata": {},
   "outputs": [],
   "source": [
    "# Apply the function to each order in the dataframe to calculate the expected charges\n",
    "order_weight_with_zones['Expected Charge (Rs.)'] = order_weight_with_zones.apply(\n",
    "    lambda row: calculate_expected_charges(row, courier_rates),\n",
    "    axis=1\n",
    ")"
   ]
  },
  {
   "cell_type": "code",
   "execution_count": 22,
   "id": "3e638fea",
   "metadata": {},
   "outputs": [],
   "source": [
    "# Merge the expected charges with the courier invoice data to compare with billed charges\n",
    "comparison_df = pd.merge(\n",
    "    order_weight_with_zones[['Order ID', 'Expected Charge (Rs.)']],\n",
    "    courier_invoice[['Order ID', 'Billing Amount (Rs.)']],\n",
    "    on='Order ID',\n",
    "    how='left'\n",
    ")"
   ]
  },
  {
   "cell_type": "code",
   "execution_count": 23,
   "id": "08e17095",
   "metadata": {},
   "outputs": [],
   "source": [
    "# Add a column to determine if the charge is correct, over, or under\n",
    "comparison_df['Charge Discrepancy (Rs.)'] = comparison_df['Billing Amount (Rs.)'] - comparison_df['Expected Charge (Rs.)']"
   ]
  },
  {
   "cell_type": "code",
   "execution_count": 24,
   "id": "e107166d",
   "metadata": {},
   "outputs": [
    {
     "data": {
      "text/html": [
       "<div>\n",
       "<style scoped>\n",
       "    .dataframe tbody tr th:only-of-type {\n",
       "        vertical-align: middle;\n",
       "    }\n",
       "\n",
       "    .dataframe tbody tr th {\n",
       "        vertical-align: top;\n",
       "    }\n",
       "\n",
       "    .dataframe thead th {\n",
       "        text-align: right;\n",
       "    }\n",
       "</style>\n",
       "<table border=\"1\" class=\"dataframe\">\n",
       "  <thead>\n",
       "    <tr style=\"text-align: right;\">\n",
       "      <th></th>\n",
       "      <th>Order ID</th>\n",
       "      <th>Expected Charge (Rs.)</th>\n",
       "      <th>Billing Amount (Rs.)</th>\n",
       "      <th>Charge Discrepancy (Rs.)</th>\n",
       "    </tr>\n",
       "  </thead>\n",
       "  <tbody>\n",
       "    <tr>\n",
       "      <th>0</th>\n",
       "      <td>2001806210</td>\n",
       "      <td>33.0</td>\n",
       "      <td>174.5</td>\n",
       "      <td>141.5</td>\n",
       "    </tr>\n",
       "    <tr>\n",
       "      <th>1</th>\n",
       "      <td>2001806226</td>\n",
       "      <td>45.4</td>\n",
       "      <td>90.2</td>\n",
       "      <td>44.8</td>\n",
       "    </tr>\n",
       "    <tr>\n",
       "      <th>2</th>\n",
       "      <td>2001806229</td>\n",
       "      <td>45.4</td>\n",
       "      <td>90.2</td>\n",
       "      <td>44.8</td>\n",
       "    </tr>\n",
       "    <tr>\n",
       "      <th>3</th>\n",
       "      <td>2001806232</td>\n",
       "      <td>45.4</td>\n",
       "      <td>135.0</td>\n",
       "      <td>89.6</td>\n",
       "    </tr>\n",
       "    <tr>\n",
       "      <th>4</th>\n",
       "      <td>2001806233</td>\n",
       "      <td>33.0</td>\n",
       "      <td>61.3</td>\n",
       "      <td>28.3</td>\n",
       "    </tr>\n",
       "  </tbody>\n",
       "</table>\n",
       "</div>"
      ],
      "text/plain": [
       "     Order ID  Expected Charge (Rs.)  Billing Amount (Rs.)  \\\n",
       "0  2001806210                   33.0                 174.5   \n",
       "1  2001806226                   45.4                  90.2   \n",
       "2  2001806229                   45.4                  90.2   \n",
       "3  2001806232                   45.4                 135.0   \n",
       "4  2001806233                   33.0                  61.3   \n",
       "\n",
       "   Charge Discrepancy (Rs.)  \n",
       "0                     141.5  \n",
       "1                      44.8  \n",
       "2                      44.8  \n",
       "3                      89.6  \n",
       "4                      28.3  "
      ]
     },
     "execution_count": 24,
     "metadata": {},
     "output_type": "execute_result"
    }
   ],
   "source": [
    "# Now let's view the first few rows to verify the calculations\n",
    "comparison_df.head()"
   ]
  },
  {
   "cell_type": "code",
   "execution_count": null,
   "id": "fe3cf380",
   "metadata": {},
   "outputs": [],
   "source": []
  }
 ],
 "metadata": {
  "kernelspec": {
   "display_name": "Python 3 (ipykernel)",
   "language": "python",
   "name": "python3"
  },
  "language_info": {
   "codemirror_mode": {
    "name": "ipython",
    "version": 3
   },
   "file_extension": ".py",
   "mimetype": "text/x-python",
   "name": "python",
   "nbconvert_exporter": "python",
   "pygments_lexer": "ipython3",
   "version": "3.9.12"
  }
 },
 "nbformat": 4,
 "nbformat_minor": 5
}
